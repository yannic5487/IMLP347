{
 "cells": [
  {
   "cell_type": "markdown",
   "metadata": {},
   "source": [
    "# Linear Regression\n"
   ]
  },
  {
   "cell_type": "code",
   "execution_count": null,
   "metadata": {},
   "outputs": [],
   "source": [
    "%matplotlib inline\n",
    "import numpy as np\n",
    "import matplotlib.pyplot as plt"
   ]
  },
  {
   "cell_type": "markdown",
   "metadata": {},
   "source": [
    "## 2.  線性迴歸訓練資料、測試資料\n",
    "\n",
    "80%  training data, 20%  testing data ==> 先利用此來驗證各種模型(演算法)的好壞及調好到最佳參數\n",
    "之後可以利用由這個80%的訓練資料所得的模型後,拿100%資料re-train模型以得到最佳模型 (此model會更佳fit data)\n"
   ]
  },
  {
   "cell_type": "code",
   "execution_count": 14,
   "metadata": {},
   "outputs": [],
   "source": [
    "from sklearn.model_selection import train_test_split\n",
    "from sklearn.linear_model import LinearRegression"
   ]
  },
  {
   "cell_type": "code",
   "execution_count": 15,
   "metadata": {},
   "outputs": [
    {
     "name": "stdout",
     "output_type": "stream",
     "text": [
      "[4.08163265 1.73469388 1.83673469 0.         2.75510204 3.36734694\n",
      " 3.67346939 4.28571429 1.02040816 0.30612245 4.18367347 1.32653061\n",
      " 4.69387755 0.20408163 3.87755102 3.97959184 0.51020408 4.3877551\n",
      " 3.7755102  3.06122449 0.6122449  2.95918367 1.63265306 1.93877551\n",
      " 5.         4.48979592 2.14285714 3.26530612 3.46938776 0.71428571\n",
      " 2.24489796 1.12244898 2.04081633 0.91836735 4.89795918 2.85714286\n",
      " 3.16326531 1.53061224 2.65306122 3.57142857]\n"
     ]
    }
   ],
   "source": [
    "x = np.linspace(0, 5, 50)\n",
    "y = 1.2*x + 0.8 + 0.6*np.random.randn(50)\n",
    "x_train, x_test, y_train, y_test = train_test_split(x, y, test_size=0.2, random_state=20)\n",
    "print(x_train)"
   ]
  },
  {
   "cell_type": "code",
   "execution_count": 16,
   "metadata": {},
   "outputs": [
    {
     "data": {
      "text/plain": [
       "array([1.57883746, 1.33347435, 0.41380434, 1.18817856, 2.52496996,\n",
       "       1.21482193, 1.30407805, 0.67973537, 2.11629284, 1.89391098,\n",
       "       2.63713822, 1.27232711, 2.57613321, 2.16366429, 3.66241662,\n",
       "       3.92822324, 1.09423928, 2.4791852 , 2.9740543 , 4.42315393,\n",
       "       4.13397582, 3.63702077, 3.22948908, 3.8850386 , 4.07144146,\n",
       "       3.8442852 , 3.8891477 , 4.7882707 , 4.28000347, 3.79399551,\n",
       "       5.71922112, 4.56512557, 3.97729557, 4.34622618, 4.2132734 ,\n",
       "       5.94695583, 5.34850823, 4.79579287, 6.64917926, 4.91035009,\n",
       "       5.83923391, 5.85933668, 5.74745596, 6.02865531, 6.06400329,\n",
       "       7.61733234, 6.37804512, 6.41065472, 6.21230362, 7.0841107 ])"
      ]
     },
     "execution_count": 16,
     "metadata": {},
     "output_type": "execute_result"
    }
   ],
   "source": [
    "y"
   ]
  },
  {
   "cell_type": "code",
   "execution_count": 17,
   "metadata": {},
   "outputs": [
    {
     "data": {
      "text/plain": [
       "<matplotlib.collections.PathCollection at 0x29cda5097f0>"
      ]
     },
     "execution_count": 17,
     "metadata": {},
     "output_type": "execute_result"
    },
    {
     "data": {
      "image/png": "[encoded data removed]",
      "text/plain": [
       "<Figure size 432x288 with 1 Axes>"
      ]
     },
     "metadata": {
      "needs_background": "light"
     },
     "output_type": "display_data"
    }
   ],
   "source": [
    "plt.scatter(x_train, y_train)"
   ]
  },
  {
   "cell_type": "markdown",
   "metadata": {},
   "source": [
    "#### 用訓練資料來 fit 函數\n",
    "\n",
    "記得現在我們只用 80% 的資料去訓練。"
   ]
  },
  {
   "cell_type": "code",
   "execution_count": 18,
   "metadata": {
    "scrolled": true
   },
   "outputs": [
    {
     "name": "stdout",
     "output_type": "stream",
     "text": [
      "Coefficients:  [1.21287193]\n",
      "interception:  0.7549278079040973\n"
     ]
    }
   ],
   "source": [
    "regr = LinearRegression()\n",
    "X_train = x_train.reshape(-1,1)\n",
    "regr.fit(X_train,y_train)\n",
    "print('Coefficients: ', regr.coef_)\n",
    "print('interception: ', regr.intercept_)"
   ]
  },
  {
   "cell_type": "code",
   "execution_count": 19,
   "metadata": {},
   "outputs": [],
   "source": [
    "Y_train = regr.predict(X_train)"
   ]
  },
  {
   "cell_type": "code",
   "execution_count": 20,
   "metadata": {},
   "outputs": [
    {
     "name": "stdout",
     "output_type": "stream",
     "text": [
      "0.4356838170079751\n"
     ]
    }
   ],
   "source": [
    "mse = np.sum((Y_train-y_train)**2) / len(y_train)\n",
    "print(mse)"
   ]
  },
  {
   "cell_type": "code",
   "execution_count": 21,
   "metadata": {},
   "outputs": [
    {
     "data": {
      "text/plain": [
       "[<matplotlib.lines.Line2D at 0x29cda587400>]"
      ]
     },
     "execution_count": 21,
     "metadata": {},
     "output_type": "execute_result"
    },
    {
     "data": {
      "image/png": "[encoded data removed]",
      "text/plain": [
       "<Figure size 432x288 with 1 Axes>"
      ]
     },
     "metadata": {
      "needs_background": "light"
     },
     "output_type": "display_data"
    }
   ],
   "source": [
    "plt.scatter(x_train, y_train)\n",
    "plt.plot(x_train, Y_train, 'r')"
   ]
  },
  {
   "cell_type": "markdown",
   "metadata": {},
   "source": [
    "#### test with test data"
   ]
  },
  {
   "cell_type": "code",
   "execution_count": 22,
   "metadata": {},
   "outputs": [
    {
     "name": "stdout",
     "output_type": "stream",
     "text": [
      "[2.24007711 2.487602   1.24997758 1.74502734 6.3242377  0.87869025\n",
      " 3.84898886 3.72522642 6.57176258 3.60146397]\n"
     ]
    }
   ],
   "source": [
    "X_test = x_test.reshape(-1,1)\n",
    "Y_test = regr.predict(X_test)\n",
    "\n",
    "print(Y_test)"
   ]
  },
  {
   "cell_type": "markdown",
   "metadata": {},
   "source": [
    "$$\\widehat{y}=xw+b=w_{1}x_{1}+b$$"
   ]
  },
  {
   "cell_type": "code",
   "execution_count": 23,
   "metadata": {},
   "outputs": [
    {
     "data": {
      "text/plain": [
       "array([[2.24007711],\n",
       "       [2.487602  ],\n",
       "       [1.24997758],\n",
       "       [1.74502734],\n",
       "       [6.3242377 ],\n",
       "       [0.87869025],\n",
       "       [3.84898886],\n",
       "       [3.72522642],\n",
       "       [6.57176258],\n",
       "       [3.60146397]])"
      ]
     },
     "execution_count": 23,
     "metadata": {},
     "output_type": "execute_result"
    }
   ],
   "source": [
    "#Y=WX+b\n",
    "W=regr.coef_\n",
    "b=regr.intercept_\n",
    "W*X_test+b\n"
   ]
  },
  {
   "cell_type": "code",
   "execution_count": 24,
   "metadata": {},
   "outputs": [
    {
     "name": "stdout",
     "output_type": "stream",
     "text": [
      "0.5361746380856386\n"
     ]
    }
   ],
   "source": [
    "mse = np.sum((Y_test-y_test)**2) / len(y_test)\n",
    "print(mse)"
   ]
  },
  {
   "cell_type": "code",
   "execution_count": 25,
   "metadata": {
    "scrolled": false
   },
   "outputs": [
    {
     "data": {
      "text/plain": [
       "<matplotlib.legend.Legend at 0x29cda5b2be0>"
      ]
     },
     "execution_count": 25,
     "metadata": {},
     "output_type": "execute_result"
    },
    {
     "data": {
      "image/png": "[encoded data removed]",
      "text/plain": [
       "<Figure size 432x288 with 1 Axes>"
      ]
     },
     "metadata": {
      "needs_background": "light"
     },
     "output_type": "display_data"
    }
   ],
   "source": [
    "\n",
    "title='f(x)=1.2x+0.8'+',mse:'+str(round(mse,2))\n",
    "plt.title(title)\n",
    "plt.xlabel('x')\n",
    "plt.ylabel('y')\n",
    "#plt.grid(True)\n",
    "plt.scatter(x_test, y_test,alpha=0.8,label='Ground Truth')\n",
    "plt.scatter(x_test, Y_test, c='r', alpha=0.8,label='Predict')\n",
    "plt.legend()"
   ]
  },
  {
   "cell_type": "code",
   "execution_count": null,
   "metadata": {},
   "outputs": [],
   "source": []
  },
  {
   "cell_type": "code",
   "execution_count": null,
   "metadata": {},
   "outputs": [],
   "source": []
  },
  {
   "cell_type": "code",
   "execution_count": null,
   "metadata": {},
   "outputs": [],
   "source": []
  },
  {
   "cell_type": "code",
   "execution_count": null,
   "metadata": {},
   "outputs": [],
   "source": []
  },
  {
   "cell_type": "code",
   "execution_count": null,
   "metadata": {},
   "outputs": [],
   "source": []
  },
  {
   "cell_type": "code",
   "execution_count": null,
   "metadata": {},
   "outputs": [],
   "source": []
  },
  {
   "cell_type": "code",
   "execution_count": null,
   "metadata": {},
   "outputs": [],
   "source": []
  }
 ],
 "metadata": {
  "anaconda-cloud": {},
  "kernelspec": {
   "display_name": "Python 3",
   "language": "python",
   "name": "python3"
  },
  "language_info": {
   "codemirror_mode": {
    "name": "ipython",
    "version": 3
   },
   "file_extension": ".py",
   "mimetype": "text/x-python",
   "name": "python",
   "nbconvert_exporter": "python",
   "pygments_lexer": "ipython3",
   "version": "3.8.8"
  }
 },
 "nbformat": 4,
 "nbformat_minor": 1
}
